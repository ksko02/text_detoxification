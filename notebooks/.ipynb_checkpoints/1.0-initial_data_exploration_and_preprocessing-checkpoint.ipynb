{
 "cells": [
  {
   "cell_type": "markdown",
   "id": "8a35874f",
   "metadata": {},
   "source": [
    "# Initial data exploration and base preprocessing data"
   ]
  },
  {
   "cell_type": "markdown",
   "id": "a8349bed",
   "metadata": {},
   "source": [
    "## Data description"
   ]
  },
  {
   "cell_type": "markdown",
   "id": "f756ccc4",
   "metadata": {},
   "source": [
    "The dataset is a subset of the ParaNMT corpus (50M sentence pairs). The filtered ParaNMT-detox corpus (500K sentence pairs) can be downloaded from [here](https://github.com/skoltech-nlp/detox/releases/download/emnlp2021/filtered_paranmt.zip).\n",
    "\n",
    "The data is given in the `.tsv` format, means columns are separated by `\\t` symbol.\n",
    "\n",
    "Basic information about columns:\n",
    "\n",
    "* **ref_tox** (float) - toxicity level of reference text\n",
    "* **translation** (str) - second item from the pair - paraphrazed version of the reference\n",
    "* **trn_tox** (float) - toxicity level of translation text\n",
    "* **similarity** (float) - cosine similarity of the texts\n",
    "* **lenght_diff** (float) - relative length difference between texts"
   ]
  },
  {
   "cell_type": "markdown",
   "id": "97211c6e",
   "metadata": {},
   "source": [
    "## Dataset Loading"
   ]
  },
  {
   "cell_type": "code",
   "execution_count": 5,
   "id": "e09475c2",
   "metadata": {},
   "outputs": [],
   "source": [
    "import pandas as pd\n",
    "\n",
    "df = pd.read_csv('../data/raw/filtered.tsv', sep='\\t', index_col=0)"
   ]
  },
  {
   "cell_type": "markdown",
   "id": "d45106d3",
   "metadata": {},
   "source": [
    "## Initial data exploration "
   ]
  },
  {
   "cell_type": "code",
   "execution_count": 136,
   "id": "5f63dd2a",
   "metadata": {},
   "outputs": [
    {
     "data": {
      "text/html": [
       "<div>\n",
       "<style scoped>\n",
       "    .dataframe tbody tr th:only-of-type {\n",
       "        vertical-align: middle;\n",
       "    }\n",
       "\n",
       "    .dataframe tbody tr th {\n",
       "        vertical-align: top;\n",
       "    }\n",
       "\n",
       "    .dataframe thead th {\n",
       "        text-align: right;\n",
       "    }\n",
       "</style>\n",
       "<table border=\"1\" class=\"dataframe\">\n",
       "  <thead>\n",
       "    <tr style=\"text-align: right;\">\n",
       "      <th></th>\n",
       "      <th>reference</th>\n",
       "      <th>translation</th>\n",
       "      <th>similarity</th>\n",
       "      <th>lenght_diff</th>\n",
       "      <th>ref_tox</th>\n",
       "      <th>trn_tox</th>\n",
       "    </tr>\n",
       "  </thead>\n",
       "  <tbody>\n",
       "    <tr>\n",
       "      <th>0</th>\n",
       "      <td>If Alkar is flooding her with psychic waste, t...</td>\n",
       "      <td>if Alkar floods her with her mental waste, it ...</td>\n",
       "      <td>0.785171</td>\n",
       "      <td>0.010309</td>\n",
       "      <td>0.014195</td>\n",
       "      <td>0.981983</td>\n",
       "    </tr>\n",
       "    <tr>\n",
       "      <th>1</th>\n",
       "      <td>Now you're getting nasty.</td>\n",
       "      <td>you're becoming disgusting.</td>\n",
       "      <td>0.749687</td>\n",
       "      <td>0.071429</td>\n",
       "      <td>0.065473</td>\n",
       "      <td>0.999039</td>\n",
       "    </tr>\n",
       "    <tr>\n",
       "      <th>2</th>\n",
       "      <td>Well, we could spare your life, for one.</td>\n",
       "      <td>well, we can spare your life.</td>\n",
       "      <td>0.919051</td>\n",
       "      <td>0.268293</td>\n",
       "      <td>0.213313</td>\n",
       "      <td>0.985068</td>\n",
       "    </tr>\n",
       "    <tr>\n",
       "      <th>3</th>\n",
       "      <td>Ah! Monkey, you've got to snap out of it.</td>\n",
       "      <td>monkey, you have to wake up.</td>\n",
       "      <td>0.664333</td>\n",
       "      <td>0.309524</td>\n",
       "      <td>0.053362</td>\n",
       "      <td>0.994215</td>\n",
       "    </tr>\n",
       "    <tr>\n",
       "      <th>4</th>\n",
       "      <td>I've got orders to put her down.</td>\n",
       "      <td>I have orders to kill her.</td>\n",
       "      <td>0.726639</td>\n",
       "      <td>0.181818</td>\n",
       "      <td>0.009402</td>\n",
       "      <td>0.999348</td>\n",
       "    </tr>\n",
       "  </tbody>\n",
       "</table>\n",
       "</div>"
      ],
      "text/plain": [
       "                                           reference  \\\n",
       "0  If Alkar is flooding her with psychic waste, t...   \n",
       "1                          Now you're getting nasty.   \n",
       "2           Well, we could spare your life, for one.   \n",
       "3          Ah! Monkey, you've got to snap out of it.   \n",
       "4                   I've got orders to put her down.   \n",
       "\n",
       "                                         translation  similarity  lenght_diff  \\\n",
       "0  if Alkar floods her with her mental waste, it ...    0.785171     0.010309   \n",
       "1                        you're becoming disgusting.    0.749687     0.071429   \n",
       "2                      well, we can spare your life.    0.919051     0.268293   \n",
       "3                       monkey, you have to wake up.    0.664333     0.309524   \n",
       "4                         I have orders to kill her.    0.726639     0.181818   \n",
       "\n",
       "    ref_tox   trn_tox  \n",
       "0  0.014195  0.981983  \n",
       "1  0.065473  0.999039  \n",
       "2  0.213313  0.985068  \n",
       "3  0.053362  0.994215  \n",
       "4  0.009402  0.999348  "
      ]
     },
     "execution_count": 136,
     "metadata": {},
     "output_type": "execute_result"
    }
   ],
   "source": [
    "df.head()"
   ]
  },
  {
   "cell_type": "markdown",
   "id": "465fa1b6",
   "metadata": {},
   "source": [
    "#### 1. Get basic information about the dataset"
   ]
  },
  {
   "cell_type": "code",
   "execution_count": 137,
   "id": "40a89b23",
   "metadata": {},
   "outputs": [
    {
     "name": "stdout",
     "output_type": "stream",
     "text": [
      "<class 'pandas.core.frame.DataFrame'>\n",
      "Int64Index: 577777 entries, 0 to 577776\n",
      "Data columns (total 6 columns):\n",
      " #   Column       Non-Null Count   Dtype  \n",
      "---  ------       --------------   -----  \n",
      " 0   reference    577777 non-null  object \n",
      " 1   translation  577777 non-null  object \n",
      " 2   similarity   577777 non-null  float64\n",
      " 3   lenght_diff  577777 non-null  float64\n",
      " 4   ref_tox      577777 non-null  float64\n",
      " 5   trn_tox      577777 non-null  float64\n",
      "dtypes: float64(4), object(2)\n",
      "memory usage: 30.9+ MB\n"
     ]
    }
   ],
   "source": [
    "df.info()"
   ]
  },
  {
   "cell_type": "markdown",
   "id": "65d0bb03",
   "metadata": {},
   "source": [
    "#### 2. Summary statistics of numerical columns"
   ]
  },
  {
   "cell_type": "code",
   "execution_count": 138,
   "id": "6abcb91f",
   "metadata": {},
   "outputs": [
    {
     "data": {
      "text/html": [
       "<div>\n",
       "<style scoped>\n",
       "    .dataframe tbody tr th:only-of-type {\n",
       "        vertical-align: middle;\n",
       "    }\n",
       "\n",
       "    .dataframe tbody tr th {\n",
       "        vertical-align: top;\n",
       "    }\n",
       "\n",
       "    .dataframe thead th {\n",
       "        text-align: right;\n",
       "    }\n",
       "</style>\n",
       "<table border=\"1\" class=\"dataframe\">\n",
       "  <thead>\n",
       "    <tr style=\"text-align: right;\">\n",
       "      <th></th>\n",
       "      <th>similarity</th>\n",
       "      <th>lenght_diff</th>\n",
       "      <th>ref_tox</th>\n",
       "      <th>trn_tox</th>\n",
       "    </tr>\n",
       "  </thead>\n",
       "  <tbody>\n",
       "    <tr>\n",
       "      <th>count</th>\n",
       "      <td>577777.000000</td>\n",
       "      <td>577777.000000</td>\n",
       "      <td>577777.000000</td>\n",
       "      <td>577777.000000</td>\n",
       "    </tr>\n",
       "    <tr>\n",
       "      <th>mean</th>\n",
       "      <td>0.758469</td>\n",
       "      <td>0.157652</td>\n",
       "      <td>0.541372</td>\n",
       "      <td>0.434490</td>\n",
       "    </tr>\n",
       "    <tr>\n",
       "      <th>std</th>\n",
       "      <td>0.092695</td>\n",
       "      <td>0.108057</td>\n",
       "      <td>0.457571</td>\n",
       "      <td>0.458904</td>\n",
       "    </tr>\n",
       "    <tr>\n",
       "      <th>min</th>\n",
       "      <td>0.600001</td>\n",
       "      <td>0.000000</td>\n",
       "      <td>0.000033</td>\n",
       "      <td>0.000033</td>\n",
       "    </tr>\n",
       "    <tr>\n",
       "      <th>25%</th>\n",
       "      <td>0.681105</td>\n",
       "      <td>0.066667</td>\n",
       "      <td>0.012171</td>\n",
       "      <td>0.000707</td>\n",
       "    </tr>\n",
       "    <tr>\n",
       "      <th>50%</th>\n",
       "      <td>0.754439</td>\n",
       "      <td>0.141791</td>\n",
       "      <td>0.806795</td>\n",
       "      <td>0.085133</td>\n",
       "    </tr>\n",
       "    <tr>\n",
       "      <th>75%</th>\n",
       "      <td>0.831244</td>\n",
       "      <td>0.238095</td>\n",
       "      <td>0.990469</td>\n",
       "      <td>0.973739</td>\n",
       "    </tr>\n",
       "    <tr>\n",
       "      <th>max</th>\n",
       "      <td>0.950000</td>\n",
       "      <td>0.400000</td>\n",
       "      <td>0.999724</td>\n",
       "      <td>0.999730</td>\n",
       "    </tr>\n",
       "  </tbody>\n",
       "</table>\n",
       "</div>"
      ],
      "text/plain": [
       "          similarity    lenght_diff        ref_tox        trn_tox\n",
       "count  577777.000000  577777.000000  577777.000000  577777.000000\n",
       "mean        0.758469       0.157652       0.541372       0.434490\n",
       "std         0.092695       0.108057       0.457571       0.458904\n",
       "min         0.600001       0.000000       0.000033       0.000033\n",
       "25%         0.681105       0.066667       0.012171       0.000707\n",
       "50%         0.754439       0.141791       0.806795       0.085133\n",
       "75%         0.831244       0.238095       0.990469       0.973739\n",
       "max         0.950000       0.400000       0.999724       0.999730"
      ]
     },
     "execution_count": 138,
     "metadata": {},
     "output_type": "execute_result"
    }
   ],
   "source": [
    "df.describe()"
   ]
  },
  {
   "cell_type": "markdown",
   "id": "a96521eb",
   "metadata": {},
   "source": [
    "#### 3. Check for missing values"
   ]
  },
  {
   "cell_type": "markdown",
   "id": "e2ac5066",
   "metadata": {},
   "source": [
    "A check showed that there are no missing values"
   ]
  },
  {
   "cell_type": "code",
   "execution_count": 139,
   "id": "f1defe05",
   "metadata": {},
   "outputs": [
    {
     "data": {
      "text/plain": [
       "reference      0\n",
       "translation    0\n",
       "similarity     0\n",
       "lenght_diff    0\n",
       "ref_tox        0\n",
       "trn_tox        0\n",
       "dtype: int64"
      ]
     },
     "execution_count": 139,
     "metadata": {},
     "output_type": "execute_result"
    }
   ],
   "source": [
    "df.isnull().sum()"
   ]
  },
  {
   "cell_type": "markdown",
   "id": "403d1158",
   "metadata": {},
   "source": [
    "#### 4. Data Distribution"
   ]
  },
  {
   "cell_type": "code",
   "execution_count": 140,
   "id": "fd1cef65",
   "metadata": {},
   "outputs": [
    {
     "data": {
      "image/png": "[encoded data removed]",
      "text/plain": [
       "<Figure size 1200x500 with 2 Axes>"
      ]
     },
     "metadata": {},
     "output_type": "display_data"
    }
   ],
   "source": [
    "import matplotlib.pyplot as plt\n",
    "\n",
    "fig, (ax1, ax2) = plt.subplots(1, 2, figsize=(12, 5))\n",
    "\n",
    "# Plot the histogram for 'reference' toxicity\n",
    "ax1.hist(df['ref_tox'], bins=20, label='ref_tox', color='coral')\n",
    "ax1.set_xlabel('Toxicity Level')\n",
    "ax1.set_ylabel('Frequency')\n",
    "ax1.set_title('Reference Toxicity')\n",
    "ax1.legend()\n",
    "\n",
    "# Plot the histogram for 'translation' toxicity\n",
    "ax2.hist(df['trn_tox'], bins=20, label='trn_tox', color='yellowgreen')\n",
    "ax2.set_xlabel('Toxicity Level')\n",
    "ax2.set_ylabel('Frequency')\n",
    "ax2.set_title('Translation Toxicity')\n",
    "ax2.legend()\n",
    "\n",
    "plt.tight_layout()\n",
    "plt.show()"
   ]
  },
  {
   "cell_type": "markdown",
   "id": "cd40306d",
   "metadata": {},
   "source": [
    "Looking at the distribution of the data, we can conclude that the data in the reference and translation columns are mixed. It is not convenient to work with data in this way, so it is necessary to organize them "
   ]
  },
  {
   "cell_type": "markdown",
   "id": "2f81a444",
   "metadata": {},
   "source": [
    "## Preprocessing data"
   ]
  },
  {
   "cell_type": "markdown",
   "id": "92d9d444",
   "metadata": {},
   "source": [
    "#### 1. Make it so that the reference has toxic sentences, but the translation does not"
   ]
  },
  {
   "cell_type": "code",
   "execution_count": 141,
   "id": "79126891",
   "metadata": {},
   "outputs": [],
   "source": [
    "# Extract the columns values and assign them to the variables\n",
    "reference = df['reference'].values\n",
    "translation = df['translation'].values\n",
    "ref_tox = df['ref_tox'].values\n",
    "trn_tox = df['trn_tox'].values"
   ]
  },
  {
   "cell_type": "code",
   "execution_count": 142,
   "id": "999c93c9",
   "metadata": {},
   "outputs": [],
   "source": [
    "for i in range(len(df)):\n",
    "    # Check if the toxicity level of the reference text is less than the toxicity level of the translation text\n",
    "    if ref_tox[i] < trn_tox[i]:\n",
    "        ref_tox[i], trn_tox[i] = trn_tox[i], ref_tox[i]  # Swap the toxicity levels\n",
    "        reference[i], translation[i] = translation[i], reference[i] # Swap the corresponding text contents"
   ]
  },
  {
   "cell_type": "code",
   "execution_count": 143,
   "id": "5814d214",
   "metadata": {},
   "outputs": [],
   "source": [
    "# Write the changed values to the DataFrame\n",
    "df['reference'] = reference\n",
    "df['translation'] = translation\n",
    "df['ref_tox'] = ref_tox\n",
    "df['trn_tox'] = trn_tox"
   ]
  },
  {
   "cell_type": "code",
   "execution_count": 144,
   "id": "e08a3a98",
   "metadata": {},
   "outputs": [
    {
     "data": {
      "image/png": "[encoded data removed]",
      "text/plain": [
       "<Figure size 1200x500 with 2 Axes>"
      ]
     },
     "metadata": {},
     "output_type": "display_data"
    }
   ],
   "source": [
    "fig, (ax1, ax2) = plt.subplots(1, 2, figsize=(12, 5))\n",
    "\n",
    "# Plot the histogram for 'reference' toxicity\n",
    "ax1.hist(df['ref_tox'], bins=20, label='ref_tox', color='coral')\n",
    "ax1.set_xlabel('Toxicity Level')\n",
    "ax1.set_ylabel('Frequency')\n",
    "ax1.set_title('Reference Toxicity')\n",
    "ax1.legend()\n",
    "\n",
    "# Plot the histogram for 'translation' toxicity\n",
    "ax2.hist(df['trn_tox'], bins=20, label='trn_tox', color='yellowgreen')\n",
    "ax2.set_xlabel('Toxicity Level')\n",
    "ax2.set_ylabel('Frequency')\n",
    "ax2.set_title('Translation Toxicity')\n",
    "ax2.legend()\n",
    "\n",
    "plt.tight_layout()  \n",
    "plt.show()"
   ]
  },
  {
   "cell_type": "markdown",
   "id": "23213940",
   "metadata": {},
   "source": [
    "Looking at the distribution of the data, we can conclude that we were able to organize the data so that the \"reference\" column contains only toxic data and the \"translation\" column contains non-toxic data. "
   ]
  },
  {
   "cell_type": "markdown",
   "id": "5ecb2825",
   "metadata": {},
   "source": [
    "#### 2. Make tokenization and remove stop words for further analysis and preprocessing"
   ]
  },
  {
   "cell_type": "code",
   "execution_count": 145,
   "id": "40b04911",
   "metadata": {},
   "outputs": [
    {
     "name": "stderr",
     "output_type": "stream",
     "text": [
      "[nltk_data] Downloading package stopwords to\n",
      "[nltk_data]     C:\\Users\\User\\AppData\\Roaming\\nltk_data...\n",
      "[nltk_data]   Package stopwords is already up-to-date!\n",
      "[nltk_data] Downloading package punkt to\n",
      "[nltk_data]     C:\\Users\\User\\AppData\\Roaming\\nltk_data...\n",
      "[nltk_data]   Package punkt is already up-to-date!\n"
     ]
    },
    {
     "data": {
      "text/plain": [
       "True"
      ]
     },
     "execution_count": 145,
     "metadata": {},
     "output_type": "execute_result"
    }
   ],
   "source": [
    "import nltk\n",
    "nltk.download('stopwords')\n",
    "nltk.download('punkt')"
   ]
  },
  {
   "cell_type": "code",
   "execution_count": 146,
   "id": "ae6631e5",
   "metadata": {},
   "outputs": [],
   "source": [
    "from nltk.tokenize import RegexpTokenizer\n",
    "\n",
    "# Tokenize\n",
    "tokenizer = RegexpTokenizer(r'\\w+|\\d+')\n",
    "\n",
    "df['ref_clean'] = df['reference'].apply(lambda x: tokenizer.tokenize(x.lower()))\n",
    "df['trn_clean'] = df['translation'].apply(lambda x: tokenizer.tokenize(x.lower()))\n"
   ]
  },
  {
   "cell_type": "code",
   "execution_count": 147,
   "id": "5d462f1e",
   "metadata": {},
   "outputs": [],
   "source": [
    "# Remove stop words\n",
    "def stop_words_clean(text):\n",
    "    stop_words = set(nltk.corpus.stopwords.words(\"english\"))\n",
    "    return [item for item in text if item not in stop_words]\n"
   ]
  },
  {
   "cell_type": "code",
   "execution_count": 148,
   "id": "9ed86b4d",
   "metadata": {},
   "outputs": [
    {
     "name": "stderr",
     "output_type": "stream",
     "text": [
      "  0%|                                                                                       | 0/577777 [00:00<?, ?it/s]C:\\Users\\User\\AppData\\Local\\Temp\\ipykernel_4728\\2156439515.py:4: SettingWithCopyWarning: \n",
      "A value is trying to be set on a copy of a slice from a DataFrame\n",
      "\n",
      "See the caveats in the documentation: https://pandas.pydata.org/pandas-docs/stable/user_guide/indexing.html#returning-a-view-versus-a-copy\n",
      "  df['ref_clean'][i] = stop_words_clean(df['ref_clean'][i])\n",
      "C:\\Users\\User\\AppData\\Local\\Temp\\ipykernel_4728\\2156439515.py:5: SettingWithCopyWarning: \n",
      "A value is trying to be set on a copy of a slice from a DataFrame\n",
      "\n",
      "See the caveats in the documentation: https://pandas.pydata.org/pandas-docs/stable/user_guide/indexing.html#returning-a-view-versus-a-copy\n",
      "  df['trn_clean'][i] = stop_words_clean(df['trn_clean'][i])\n",
      "100%|█████████████████████████████████████████████████████████████████████████| 577777/577777 [17:39<00:00, 545.14it/s]\n"
     ]
    }
   ],
   "source": [
    "from tqdm import tqdm\n",
    "\n",
    "# Remove stop words\n",
    "for i in tqdm(range(len(df['ref_clean']))):\n",
    "    df['ref_clean'][i] = stop_words_clean(df['ref_clean'][i])\n",
    "    df['trn_clean'][i] = stop_words_clean(df['trn_clean'][i])"
   ]
  },
  {
   "cell_type": "markdown",
   "id": "aaaceedc",
   "metadata": {},
   "source": [
    "#### 3. Count the most frequently occurring words in the \"reference\" and \"translation\" columns"
   ]
  },
  {
   "cell_type": "markdown",
   "id": "731cbbf3",
   "metadata": {},
   "source": [
    "Let's compare the most frequent words in the \"reference\" and \"translation\" columns"
   ]
  },
  {
   "cell_type": "code",
   "execution_count": 149,
   "id": "c4443511",
   "metadata": {},
   "outputs": [
    {
     "name": "stdout",
     "output_type": "stream",
     "text": [
      "Most common words in 'reference':\n",
      "like: 34417\n",
      "shit: 32026\n",
      "fucking: 30957\n",
      "get: 25369\n",
      "know: 21495\n",
      "damn: 21194\n",
      "kill: 20882\n",
      "hell: 20605\n",
      "fuck: 20467\n",
      "want: 18835\n",
      "one: 18254\n",
      "gonna: 18118\n",
      "man: 14324\n",
      "would: 13893\n",
      "think: 12496\n"
     ]
    }
   ],
   "source": [
    "from collections import Counter\n",
    "\n",
    "# Count words in 'reference' column\n",
    "reference_words = [word for sentence in df['ref_clean'] for word in sentence]\n",
    "reference_word_counts = Counter(reference_words)\n",
    "\n",
    "# Get the most common words in 'reference'\n",
    "most_common_reference_words = reference_word_counts.most_common(15)\n",
    "\n",
    "print(\"Most common words in 'reference':\")\n",
    "for word, count in most_common_reference_words:\n",
    "    print(f\"{word}: {count}\")"
   ]
  },
  {
   "cell_type": "code",
   "execution_count": 150,
   "id": "724560b1",
   "metadata": {},
   "outputs": [
    {
     "name": "stdout",
     "output_type": "stream",
     "text": [
      "\n",
      "Most common words in 'translation':\n",
      "like: 31658\n",
      "get: 26002\n",
      "know: 21793\n",
      "one: 19885\n",
      "want: 18315\n",
      "would: 15596\n",
      "hell: 14495\n",
      "man: 14350\n",
      "think: 13100\n",
      "go: 12856\n",
      "going: 12778\n",
      "gonna: 11787\n",
      "got: 11457\n",
      "us: 10668\n",
      "take: 10559\n"
     ]
    }
   ],
   "source": [
    "# Count words in 'translation' column\n",
    "translation_words = reference_words = [word for sentence in df['trn_clean'] for word in sentence]\n",
    "translation_word_counts = Counter(translation_words)\n",
    "\n",
    "# Get the most common words in 'translation'\n",
    "most_common_translation_words = translation_word_counts.most_common(15)\n",
    "\n",
    "print(\"\\nMost common words in 'translation':\")\n",
    "for word, count in most_common_translation_words:\n",
    "    print(f\"{word}: {count}\")"
   ]
  },
  {
   "cell_type": "markdown",
   "id": "25394b2a",
   "metadata": {},
   "source": [
    "It can be seen that column \"reference\" has toxic words among the most frequently occurring words, while column \"translation\" does not"
   ]
  },
  {
   "cell_type": "markdown",
   "id": "9d32ef37",
   "metadata": {},
   "source": [
    "#### 4. Count the most toxic words in the \"reference\" column"
   ]
  },
  {
   "cell_type": "code",
   "execution_count": 151,
   "id": "2881b2ba",
   "metadata": {},
   "outputs": [],
   "source": [
    "words_dict = {}\n",
    "\n",
    "tokenized_sentences = df['ref_clean']\n",
    "toxicity_levels = df['ref_tox']\n",
    "\n",
    "for i in range(len(df)):\n",
    "    \n",
    "    tokenized_sentence = tokenized_sentences[i]\n",
    "    toxicity_level = toxicity_levels[i]\n",
    "    \n",
    "    # Iterate through the words in the tokenized sentence\n",
    "    for word in tokenized_sentence:\n",
    "        \n",
    "        # If the word is already in the dictionary, append the current toxicity level to its list\n",
    "        if word in words_dict:\n",
    "            words_dict[word].append(toxicity_level) \n",
    "        else:\n",
    "            words_dict[word] = [toxicity_level]\n",
    "            "
   ]
  },
  {
   "cell_type": "code",
   "execution_count": 158,
   "id": "284201c6",
   "metadata": {},
   "outputs": [],
   "source": [
    "toxic_words_dict = {}\n",
    "\n",
    "for word in words_dict:\n",
    "    \n",
    "    # Calculate the average toxicity level for the current word\n",
    "    toxic_level = sum(words_dict[word]) / len(words_dict[word])\n",
    "    \n",
    "    # Check if the word has an average toxicity level above a threshold (0.96769) and is mentioned in at least 70 sentences\n",
    "    if toxic_level >= 0.96769 and len(words_dict[word]) >= 70:\n",
    "        toxic_words_dict[word] = toxic_level"
   ]
  },
  {
   "cell_type": "code",
   "execution_count": 161,
   "id": "e792d3f3",
   "metadata": {},
   "outputs": [
    {
     "name": "stdout",
     "output_type": "stream",
     "text": [
      "motherfucker\n",
      "fucker\n",
      "idiots\n",
      "fuckers\n",
      "motherfuckers\n",
      "scumbag\n",
      "pussy\n",
      "stupidest\n",
      "bastards\n",
      "dammit\n",
      "fuck\n",
      "bitch\n",
      "morons\n",
      "faggot\n",
      "scumbags\n",
      "idiotic\n",
      "dumbass\n",
      "dicks\n",
      "stupidity\n",
      "assholes\n",
      "asshole\n",
      "bitches\n",
      "pussies\n",
      "fags\n",
      "idiot\n",
      "shithead\n",
      "fucked\n",
      "bullshit\n",
      "shit\n",
      "masturbate\n",
      "dickhead\n",
      "dumbest\n",
      "motherfucking\n",
      "masturbating\n",
      "blowjob\n",
      "stupid\n",
      "bastard\n",
      "moron\n",
      "scum\n",
      "jerks\n",
      "fucks\n",
      "schmuck\n",
      "damnit\n",
      "fag\n",
      "slut\n",
      "whore\n",
      "niggers\n",
      "goddamn\n",
      "nigger\n",
      "jackass\n",
      "penis\n",
      "jerk\n",
      "cunt\n",
      "fools\n",
      "dipshit\n",
      "ass\n",
      "fucking\n",
      "dick\n",
      "whores\n",
      "nigga\n",
      "pathetic\n",
      "tits\n",
      "arse\n",
      "dumb\n",
      "jerking\n",
      "asses\n",
      "cocksucker\n",
      "crap\n",
      "wanker\n",
      "cock\n",
      "shithole\n",
      "penises\n",
      "diamonds\n",
      "vagina\n",
      "chill\n",
      "hookers\n",
      "hypocrite\n",
      "sluts\n",
      "holy\n",
      "shite\n",
      "fool\n",
      "bugger\n",
      "damn\n",
      "buffoon\n",
      "aw\n",
      "vince\n",
      "anus\n",
      "yo\n",
      "shits\n",
      "shitting\n",
      "wuss\n",
      "kenny\n",
      "shut\n",
      "testicle\n",
      "coke\n",
      "airport\n",
      "kidding\n",
      "fatass\n",
      "sucker\n",
      "niggas\n",
      "ow\n",
      "hooker\n",
      "sissy\n",
      "ibiza\n",
      "2girls1cup\n",
      "wwe\n",
      "hanah\n",
      "hentai\n",
      "basshunter\n",
      "akon\n",
      "vegas\n",
      "xxx\n",
      "walker\n",
      "mistic\n",
      "forse\n",
      "losers\n",
      "alarm\n",
      "masturbation\n",
      "bb8\n",
      "rangers\n",
      "trailer\n",
      "kama\n",
      "pamela\n",
      "slutty\n",
      "anal\n",
      "sutra\n",
      "piece\n",
      "fuckin\n",
      "suck\n",
      "buying\n",
      "iglesias\n",
      "montana\n",
      "linkin\n",
      "horseshit\n",
      "loser\n",
      "prick\n",
      "chump\n",
      "suckers\n",
      "amnesia\n",
      "balls\n",
      "genitals\n",
      "wayne\n",
      "cum\n"
     ]
    }
   ],
   "source": [
    "most_toxic_words = sorted(toxic_words_dict.items(), key=lambda x: x[1], reverse=True)\n",
    "\n",
    "for word in most_toxic_words:\n",
    "    print(word[0])"
   ]
  },
  {
   "cell_type": "markdown",
   "id": "1810beb8",
   "metadata": {},
   "source": [
    "#### 5. Write the toxic words into a file in order to use it in the base solution "
   ]
  },
  {
   "cell_type": "code",
   "execution_count": 167,
   "id": "b12040d0",
   "metadata": {},
   "outputs": [],
   "source": [
    "with open('../data/interim/toxic_word.txt', 'w') as f:\n",
    "    for word in most_toxic_words:\n",
    "        f.write(word[0]+ ' ')"
   ]
  }
 ],
 "metadata": {
  "kernelspec": {
   "display_name": "Python 3 (ipykernel)",
   "language": "python",
   "name": "python3"
  },
  "language_info": {
   "codemirror_mode": {
    "name": "ipython",
    "version": 3
   },
   "file_extension": ".py",
   "mimetype": "text/x-python",
   "name": "python",
   "nbconvert_exporter": "python",
   "pygments_lexer": "ipython3",
   "version": "3.9.6"
  }
 },
 "nbformat": 4,
 "nbformat_minor": 5
}
